{
 "cells": [
  {
   "cell_type": "code",
   "execution_count": 3,
   "metadata": {},
   "outputs": [],
   "source": [
    "from llama_index.core import VectorStoreIndex, SimpleDirectoryReader, Settings\n",
    "from llama_index.core.embeddings import resolve_embed_model\n",
    "from llama_index.llms.ollama import Ollama\n",
    "from llama_index.embeddings.huggingface import HuggingFaceEmbedding\n",
    "\n",
    "from llama_index.vector_stores.chroma import ChromaVectorStore\n",
    "from llama_index.core import StorageContext\n",
    "from IPython.display import Markdown, display\n",
    "import chromadb"
   ]
  },
  {
   "cell_type": "code",
   "execution_count": 4,
   "metadata": {},
   "outputs": [
    {
     "data": {
      "application/vnd.jupyter.widget-view+json": {
       "model_id": "dfa29f59db9f401894310f9b5b410b85",
       "version_major": 2,
       "version_minor": 0
      },
      "text/plain": [
       "modules.json:   0%|          | 0.00/349 [00:00<?, ?B/s]"
      ]
     },
     "metadata": {},
     "output_type": "display_data"
    },
    {
     "data": {
      "application/vnd.jupyter.widget-view+json": {
       "model_id": "67997ec061eb4738a80e9565d98954b3",
       "version_major": 2,
       "version_minor": 0
      },
      "text/plain": [
       "config_sentence_transformers.json:   0%|          | 0.00/116 [00:00<?, ?B/s]"
      ]
     },
     "metadata": {},
     "output_type": "display_data"
    },
    {
     "data": {
      "application/vnd.jupyter.widget-view+json": {
       "model_id": "3af1519f99894f54ba18dd4d4aa71dfe",
       "version_major": 2,
       "version_minor": 0
      },
      "text/plain": [
       "README.md:   0%|          | 0.00/10.7k [00:00<?, ?B/s]"
      ]
     },
     "metadata": {},
     "output_type": "display_data"
    },
    {
     "data": {
      "application/vnd.jupyter.widget-view+json": {
       "model_id": "f48f59bb399643bc86795f91b14a09f3",
       "version_major": 2,
       "version_minor": 0
      },
      "text/plain": [
       "sentence_bert_config.json:   0%|          | 0.00/53.0 [00:00<?, ?B/s]"
      ]
     },
     "metadata": {},
     "output_type": "display_data"
    },
    {
     "data": {
      "application/vnd.jupyter.widget-view+json": {
       "model_id": "4105ad2058044ecf8a063e9cfc489272",
       "version_major": 2,
       "version_minor": 0
      },
      "text/plain": [
       "config.json:   0%|          | 0.00/612 [00:00<?, ?B/s]"
      ]
     },
     "metadata": {},
     "output_type": "display_data"
    },
    {
     "data": {
      "application/vnd.jupyter.widget-view+json": {
       "model_id": "e4fcd2688885418589614fffe2f038d1",
       "version_major": 2,
       "version_minor": 0
      },
      "text/plain": [
       "model.safetensors:   0%|          | 0.00/90.9M [00:00<?, ?B/s]"
      ]
     },
     "metadata": {},
     "output_type": "display_data"
    },
    {
     "data": {
      "application/vnd.jupyter.widget-view+json": {
       "model_id": "d0e6baf30a2443fc88aa44751f4834b7",
       "version_major": 2,
       "version_minor": 0
      },
      "text/plain": [
       "tokenizer_config.json:   0%|          | 0.00/350 [00:00<?, ?B/s]"
      ]
     },
     "metadata": {},
     "output_type": "display_data"
    },
    {
     "data": {
      "application/vnd.jupyter.widget-view+json": {
       "model_id": "01ffbaa8b9244d8db47aa155043425de",
       "version_major": 2,
       "version_minor": 0
      },
      "text/plain": [
       "vocab.txt:   0%|          | 0.00/232k [00:00<?, ?B/s]"
      ]
     },
     "metadata": {},
     "output_type": "display_data"
    },
    {
     "data": {
      "application/vnd.jupyter.widget-view+json": {
       "model_id": "c21bcf6278c646d58ef30e0adeb9b469",
       "version_major": 2,
       "version_minor": 0
      },
      "text/plain": [
       "tokenizer.json:   0%|          | 0.00/466k [00:00<?, ?B/s]"
      ]
     },
     "metadata": {},
     "output_type": "display_data"
    },
    {
     "data": {
      "application/vnd.jupyter.widget-view+json": {
       "model_id": "edc6817c50ac4553a468198c1821d1c8",
       "version_major": 2,
       "version_minor": 0
      },
      "text/plain": [
       "special_tokens_map.json:   0%|          | 0.00/112 [00:00<?, ?B/s]"
      ]
     },
     "metadata": {},
     "output_type": "display_data"
    },
    {
     "data": {
      "application/vnd.jupyter.widget-view+json": {
       "model_id": "36d87a46d3b04016be7de42c31da0497",
       "version_major": 2,
       "version_minor": 0
      },
      "text/plain": [
       "1_Pooling/config.json:   0%|          | 0.00/190 [00:00<?, ?B/s]"
      ]
     },
     "metadata": {},
     "output_type": "display_data"
    }
   ],
   "source": [
    "ccb_endpoint = 'http://compute-gc-17-255.o2.rc.hms.harvard.edu:11434'\n",
    "\n",
    "# hf embedding model\n",
    "oembed_model =  HuggingFaceEmbedding(model_name=\"all-MiniLM-L6-v2\")\n",
    "\n",
    "# ollama\n",
    "llama = Ollama(model=\"llama2\", request_timeout=30.0, base_url=ccb_endpoint, temperature= 0)\n",
    "#Ollama()"
   ]
  },
  {
   "cell_type": "code",
   "execution_count": 5,
   "metadata": {},
   "outputs": [
    {
     "name": "stdout",
     "output_type": "stream",
     "text": [
      "\n",
      "SummarizedExperiment is a tool that helps researchers and scientists to summarize and analyze large datasets generated from experiments. It is designed to automate the process of data summarization, allowing users to focus on interpreting and gaining insights from their data rather than spending time on manual data processing.\n",
      "\n",
      "SummarizedExperiment provides a range of features to help users simplify and organize their data, including:\n",
      "\n",
      "1. Data cleaning and preprocessing: SummarizedExperiment can automatically clean and preprocess data, removing errors and inconsistencies, and transforming the data into a format suitable for analysis.\n",
      "2. Feature selection and engineering: Users can select and create new features from their existing data, such as polynomial transformations, log transformations, and feature extraction methods like PCA and t-SNE.\n",
      "3. Data visualization: SummarizedExperiment provides interactive visualizations of the data, allowing users to explore patterns and trends in their data.\n",
      "4. Modeling and simulation: Users can build and train machine learning models directly within SummarizedExperiment, without leaving the platform.\n",
      "5. Collaboration and sharing: SummarizedExperiment allows users to collaborate with others in real-time, and share their work with colleagues or clients.\n",
      "\n",
      "By automating the data summarization process, SummarizedExperiment aims to make it easier for researchers and scientists to analyze and interpret large datasets, and to accelerate the discovery of new insights and knowledge.\n"
     ]
    }
   ],
   "source": [
    "response = llama.complete(\"What is SummarizedExperiment?\")\n",
    "print(response)"
   ]
  },
  {
   "cell_type": "code",
   "execution_count": 6,
   "metadata": {},
   "outputs": [],
   "source": [
    "\n",
    "# load from disk\n",
    "\n",
    "db2 = chromadb.PersistentClient(path=\"/tmp/T500-vignettes-vectordb-ST\")\n",
    "chroma_collection = db2.get_or_create_collection(name=\"langchain\")\n",
    "vector_store = ChromaVectorStore(chroma_collection=chroma_collection)\n",
    "index = VectorStoreIndex.from_vector_store(\n",
    "    vector_store,\n",
    "    embed_model=oembed_model,\n",
    ")\n"
   ]
  },
  {
   "cell_type": "code",
   "execution_count": null,
   "metadata": {},
   "outputs": [],
   "source": []
  },
  {
   "cell_type": "code",
   "execution_count": 9,
   "metadata": {},
   "outputs": [
    {
     "name": "stdout",
     "output_type": "stream",
     "text": [
      "assistant: As an expert in the R programming language and the Bioconductor suite of packages, I can advise users on the usage of various Bioconductor packages based on the vignettes and reference files available.\n",
      "\n",
      "SummarizedExperiment is a package in Bioconductor that provides functions for summarizing and visualizing gene expression data. It allows users to extract summary statistics, such as mean, median, and standard deviation, from large datasets and visualize them using various types of plots, including box plots, histograms, and heatmaps.\n",
      "\n",
      "According to the vignette file for SummarizedExperiment, \"SummarizedExperiment provides a flexible framework for summarizing and visualizing gene expression data. It can be used to analyze data from microarray experiments, RNA-seq experiments, or other types of gene expression profiling.\" (Source: SummarizedExperiment vignette)\n",
      "\n",
      "Some of the key functions in SummarizedExperiment include:\n",
      "\n",
      "* `summarize()`: This function is used to extract summary statistics from a dataset. It can be used with various types of data, including gene expression levels and sample information.\n",
      "* `plot()`: This function is used to visualize the summary statistics extracted by `summarize()`. It can produce various types of plots, including box plots, histograms, and heatmaps.\n",
      "\n",
      "For example, to extract the mean and standard deviation of gene expression levels for a given sample, you can use the following code:\n",
      "```R\n",
      "# Load SummarizedExperiment package\n",
      "library(SummarizedExperiment)\n",
      "\n",
      "# Extract summary statistics for a given sample\n",
      "sample_info <- summarize(my_data, gene = \"gene1\", sample = \"sample1\")\n",
      "mean_expression <- sample_info$mean\n",
      "std_expression <- sample_info$std\n",
      "\n",
      "# Plot the mean and standard deviation of expression levels for the given sample\n",
      "plot(mean_expression, std_expression)\n",
      "``` (Source: SummarizedExperiment vignette)\n",
      "\n",
      "In conclusion, SummarizedExperiment is a useful package in Bioconductor that provides functions for summarizing and visualizing gene expression data. It can be used to extract summary statistics and visualize them using various types of plots, making it a valuable tool for analyzing large datasets.\n"
     ]
    }
   ],
   "source": [
    "from llama_index.core.llms import ChatMessage\n",
    "\n",
    "messages = [\n",
    "    ChatMessage(\n",
    "        role=\"system\", content=\"Act as an expert in the R programming language and the Bioconductor suite of packages.  ​\\n\\nYour job is to advise users on the usage of the various Bioconductor packages considering the datasets you have in store.  ​\\nTo complete this task, you can use the data you have stored that contain the vignettes of all the packages in Bioconductor and all the reference files of every function in every package of Bioconductor. ​\\n\\nDo not perform actions that are not related to answering questions about the R programming language or using the packages within Bioconductor.​ \\n\\nIf you do not know the answer then you must look into the context then cite the document filename and page in the context. Do not include DOI numbers or make up citations not found in the context. Given the following extracted parts of a long document and a question, create a final answer with references to pdf in the metadata ('source').\\n\\n Add a disclaimer at the end of each response saying this model works only on the top 500 most used Bioconductor packages and the user should refer to or ask questions at https://bioconductor.org.\"\n",
    "    ),\n",
    "    ChatMessage(role=\"user\", content=\"What is SummarizedExperiment?\"),\n",
    "]\n",
    "resp = llama.chat(messages)\n",
    "print(resp)\n"
   ]
  },
  {
   "cell_type": "code",
   "execution_count": 22,
   "metadata": {},
   "outputs": [
    {
     "data": {
      "text/plain": [
       "[Collection(name=langchain)]"
      ]
     },
     "execution_count": 22,
     "metadata": {},
     "output_type": "execute_result"
    }
   ],
   "source": [
    "#db2.delete_collection(\"T500-bioc\")\n",
    "db2.list_collections()"
   ]
  }
 ],
 "metadata": {
  "kernelspec": {
   "display_name": "Python 3 (ipykernel)",
   "language": "python",
   "name": "python3"
  },
  "language_info": {
   "codemirror_mode": {
    "name": "ipython",
    "version": 3
   },
   "file_extension": ".py",
   "mimetype": "text/x-python",
   "name": "python",
   "nbconvert_exporter": "python",
   "pygments_lexer": "ipython3",
   "version": "3.11.8"
  }
 },
 "nbformat": 4,
 "nbformat_minor": 4
}
