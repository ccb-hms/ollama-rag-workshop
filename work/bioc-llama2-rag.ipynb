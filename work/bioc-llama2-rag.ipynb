{
 "cells": [
  {
   "cell_type": "code",
   "execution_count": 2,
   "id": "c2f2bfe8-eab6-495f-ac27-5c436800ddb0",
   "metadata": {},
   "outputs": [],
   "source": [
    "import bs4\n",
    "from langchain import hub\n",
    "from langchain_community.document_loaders import WebBaseLoader\n",
    "from langchain_community.vectorstores import Chroma\n",
    "from langchain_core.output_parsers import StrOutputParser\n",
    "from langchain_core.runnables import RunnablePassthrough\n",
    "from langchain_text_splitters import RecursiveCharacterTextSplitter\n",
    "\n",
    "from langchain_community.llms import Ollama\n",
    "#from langchain_experimental.llms.ollama_functions import OllamaFunctions\n",
    "from langchain_community.embeddings import OllamaEmbeddings"
   ]
  },
  {
   "cell_type": "markdown",
   "id": "9328ef69",
   "metadata": {},
   "source": [
    "# log in to VPN or harvard wifi for endpoint"
   ]
  },
  {
   "cell_type": "code",
   "execution_count": 3,
   "id": "47d1e929-1b05-42de-abcc-d18bc6e7545e",
   "metadata": {},
   "outputs": [],
   "source": [
    "#create the LLM \n",
    "ccb_endpoint = 'http://compute-gc-17-255.o2.rc.hms.harvard.edu:11434'\n",
    "\n",
    "llm = Ollama(base_url= ccb_endpoint, model=\"llama2\", temperature=0)\n",
    "#create the embedding model\n",
    "oembed = OllamaEmbeddings(base_url=ccb_endpoint, model=\"nomic-embed-text\")"
   ]
  },
  {
   "cell_type": "markdown",
   "id": "8fd51ea6",
   "metadata": {},
   "source": [
    "# the following code blocks are to show the ingest process for the vector storage, they do not need to be run every time."
   ]
  },
  {
   "cell_type": "code",
   "execution_count": 18,
   "id": "7908326d-bb57-4193-87e7-4873aa6030ae",
   "metadata": {},
   "outputs": [
    {
     "name": "stderr",
     "output_type": "stream",
     "text": [
      "  8%|▊         | 87/1030 [00:49<17:29,  1.11s/it]Multiple definitions in dictionary at byte 0x1d8b for key /Group\n",
      " 77%|███████▋  | 797/1030 [13:40<05:05,  1.31s/it]  Multiple definitions in dictionary at byte 0x125d for key /Group\n",
      "100%|██████████| 1030/1030 [16:15<00:00,  1.06it/s]\n"
     ]
    }
   ],
   "source": [
    "from langchain_community.document_loaders import PyPDFLoader\n",
    "from langchain_community.document_loaders import DirectoryLoader\n",
    "\n",
    "loader = DirectoryLoader('/n/data1/hms/ccb/projects/bioc-chatbot/data/bioc-top-500/', glob=\"**/*.pdf\", show_progress=True, loader_cls=PyPDFLoader)\n",
    "all_docs = loader.load()"
   ]
  },
  {
   "cell_type": "code",
   "execution_count": null,
   "id": "74f640e1-fef6-4d75-9573-cf72b5e0b639",
   "metadata": {},
   "outputs": [],
   "source": [
    "#save to persistent chroma-db\n",
    "from langchain_community.vectorstores import Chroma\n",
    "\n",
    "# split it into chunks (i think azure search default is size=1000 and chunk overlap=200)\n",
    "#text_splitter = RecursiveCharacterTextSplitter(chunk_size=1000, chunk_overlap=200)\n",
    "#after a few failures it seems that the context window, while larger than 003-ada, is 8000 tokens the vector is only 512 dim long meaning it can only take 500 tokens\n",
    "#text_splitter = RecursiveCharacterTextSplitter(chunk_size=1000, chunk_overlap=200)\n",
    "text_splitter = RecursiveCharacterTextSplitter(chunk_size=500, chunk_overlap=20)\n",
    "doc2vect = text_splitter.split_documents(all_docs)\n",
    "\n",
    "db2 = Chroma.from_documents(doc2vect, oembed, persist_directory=\"/n/data1/hms/ccb/projects/bioc-chatbot/data/chromadb_vignettesT500_csize500_overlap10\")\n",
    "\n",
    "\n",
    "\n",
    "#text_splitter = RecursiveCharacterTextSplitter(chunk_size=1000, chunk_overlap=200)\n",
    "#splits = text_splitter.split_documents(docs)\n",
    "#vectorstore = Chroma.from_documents(documents=splits, embedding=oembed)\n",
    "\n",
    "#this is done in a seperate slurm script"
   ]
  },
  {
   "cell_type": "markdown",
   "id": "50f36e73",
   "metadata": {},
   "source": [
    "# load from existing chromaDB"
   ]
  },
  {
   "cell_type": "code",
   "execution_count": 4,
   "id": "da3623c1-1076-4881-b8ca-36ae58db8fce",
   "metadata": {},
   "outputs": [],
   "source": [
    "#load from persist \n",
    "T500bioc_db = Chroma(persist_directory=\"/n/data1/hms/ccb/projects/bioc-chatbot/data/chromadb_vignettesT500_csize500_overlap10\", embedding_function=oembed)"
   ]
  },
  {
   "cell_type": "code",
   "execution_count": 5,
   "id": "8a7339b8-069f-4d1c-a6e0-69c46af376e7",
   "metadata": {},
   "outputs": [
    {
     "name": "stdout",
     "output_type": "stream",
     "text": [
      "22 SummarizedExperiment-class\n",
      "SummarizedExperiment-class\n",
      "SummarizedExperiment objects\n",
      "Description\n",
      "The SummarizedExperiment class is a matrix-like container where rows represent features of in-\n",
      "terest (e.g. genes, transcripts, exons, etc...) and columns represent samples (with sample data\n",
      "summarized as a DataFrame). A SummarizedExperiment object contains one or more assays, each\n",
      "represented by a matrix-like object of numeric or other mode.\n"
     ]
    }
   ],
   "source": [
    "#test retrival\n",
    "\n",
    "retriever = T500bioc_db.as_retriever(search_type=\"similarity\", search_kwargs={\"k\": 6})\n",
    "\n",
    "retrieved_docs = retriever.invoke(\"How many classes are there in a SummarizedExperiment object?\")\n",
    "print(retrieved_docs[0].page_content)"
   ]
  },
  {
   "cell_type": "code",
   "execution_count": 20,
   "id": "05520439-c28e-4750-8fa2-97e46e2695bb",
   "metadata": {},
   "outputs": [],
   "source": [
    "# Retrieve and generate using the relevant snippets of the blog.\n",
    "retriever = T500bioc_db.as_retriever(search_type=\"similarity\", search_kwargs={\"k\": 6})\n",
    "\n",
    "def format_docs(docs):\n",
    "    return \"\\n\\n\".join(doc.page_content for doc in docs)\n",
    "from langchain_core.prompts import ChatPromptTemplate\n",
    "\n",
    "template = \"\"\"\n",
    "Act as an expert in the R programming language and the Bioconductor suite of packages.  ​\\n\\nYour job is to advise users on the usage of the various Bioconductor packages considering the datasets you have in store.  ​\\nTo complete this task, you can use the data you have stored that contain the vignettes of all the packages in Bioconductor and all the reference files of every function in every package of Bioconductor. ​\\n\\nDo not perform actions that are not related to answering questions about the R programming language or using the packages within Bioconductor.​ \\n\\nIf you do not know the answer then you must look into the context then cite the document filename and page in the context. Do not include DOI numbers or make up citations not found in the context. \n",
    "Given the following extracted parts of a long document and a question, create a final answer with references to pdf in the metadata ('source').\\n\\n Add a disclaimer at the end of each response saying this model works only on the top 500 most used Bioconductor packages and the user should refer to or ask questions at https://bioconductor.org.\n",
    "\n",
    "QUESTION: {question}\n",
    "=========\n",
    "{context}\n",
    "=========\n",
    "FINAL ANSWER: \"\"\"\n",
    "prompt = ChatPromptTemplate.from_template(template)\n",
    "\n",
    "rag_chain = (\n",
    "    {\"context\": retriever | format_docs, \"question\": RunnablePassthrough()}\n",
    "    | prompt\n",
    "    | llm\n",
    "    | StrOutputParser()\n",
    ")"
   ]
  },
  {
   "cell_type": "code",
   "execution_count": 21,
   "id": "0204936f-f4e0-4b99-b196-ac98e73611bc",
   "metadata": {},
   "outputs": [
    {
     "name": "stdout",
     "output_type": "stream",
     "text": [
      "The SummarizedExperiment class in Bioconductor is a matrix-like container that stores features of interest (e.g. genes, transcripts, exons, etc.) and samples. It is similar to the historical ExpressionSet, but allows for more flexible row information, allowing both GRanges based as well as those described by arbitrary DataFrame s. This makes it ideal for a variety of experiments, particularly sequencing-based experiments such as RNA-Seq and ChIp-Seq.\n",
      "\n",
      "The SummarizedExperiment package contains two classes: SummarizedExperiment and RangedSummarizedExperiment. The SummarizedExperiment class is the main class used to store data, while the RangedSummarizedExperiment class provides a way to construct SummarizedExperiments with multiple assays.\n",
      "\n",
      "The constructor for SummarizedExperiment instances is documented in the ?RangedSummarizedExperiment function. The objects contain one or more assays, each represented by a matrix-like object of numeric or other mode. The rows of a SummarizedExperiment object represent features of interest, and information about these features can be found in the package's documentation.\n",
      "\n",
      "References:\n",
      "\n",
      "* Bioconductor. (n.d.). SummarizedExperiment. Retrieved from <https://bioconductor.org/packages/release/bioc/html/SummarizedExperiment.html>\n",
      "* Bioconductor. (n.d.). tidySummarizedExperiment. Retrieved from <https://bioconductor.org/packages/release/bioc/html/tidySummarizedExperiment.html>"
     ]
    }
   ],
   "source": [
    "for chunk in rag_chain.stream(\"What is SummarizedExperiment?\"):\n",
    "    print(chunk, end=\"\", flush=True)"
   ]
  },
  {
   "cell_type": "code",
   "execution_count": 25,
   "id": "534625cc",
   "metadata": {},
   "outputs": [
    {
     "data": {
      "text/plain": [
       "'According to the documentation provided, the SummarizedExperiment package contains two classes: `SummarizedExperiment` and `RangedSummarizedExperiment`. (Ref: [1], [2])\\n\\nTherefore, the answer to the question is: There are 2 classes in the SummarizedExperiment package.\\n\\nReferences:\\n[1] Morgan, M. (2024). tidySummarizedExperiment: Brings SummarizedExperiment to the Tidyverse. Version 1.12.0. Retrieved from <https://bioconductor.org/packages/release/bioc/html/tidySummarizedExperiment.html>\\n[2] SummarizedExperiment Package. (2024). SummarizedExperiment. Retrieved from <https://bioconductor.org/packages/release/bioc/html/SummarizedExperiment.html>'"
      ]
     },
     "execution_count": 25,
     "metadata": {},
     "output_type": "execute_result"
    }
   ],
   "source": [
    "#without streaming loop\n",
    "query = \"How many classes are there in the SummarizedExperiment package?\"\n",
    "response = rag_chain.invoke(query)\n",
    "response"
   ]
  },
  {
   "cell_type": "code",
   "execution_count": 28,
   "id": "54aeb4d2",
   "metadata": {},
   "outputs": [
    {
     "data": {
      "text/plain": [
       "['Thank you for reaching out to me as an expert in the R programming language and the Bioconductor suite of packages. I understand that you are a bit confused about the concepts of FDR, FDR-adjusted p-value, and q-value. Let me clarify these terms for you.\\n\\nFDR (False Discovery Rate) is a measure of the proportion of false positives among all rejected hypotheses. In other words, it measures the number of genes that are declared differentially expressed when they are actually not. FDR is calculated as the number of false positives divided by the total number of rejected hypotheses.\\n\\nFDR-adjusted p-value is a modified p-value that takes into account the FDR. It is calculated by multiplying the original p-value by the FDR. For example, if the original p-value is 0.05 and the FDR is 0.1, the FDR-adjusted p-value would be 0.05 x 0.1 = 0.005.\\n\\nq-value, on the other hand, is a measure of the probability that a gene is differentially expressed given the observed data, under the assumption that the null hypothesis (no differential expression) is true. It is calculated as the probability of observing a more extreme result than the one observed, assuming that the null hypothesis is true.\\n\\nIn the context of your question, when people say \"xxx genes are differentially expressed with an FDR cutoff of 0.05,\" it means that xxx genes have an FDR-adjusted p-value smaller than 0.05. In other words, the probability of observing a more extreme result (i.e., a higher p-value) given the observed data, under the assumption that the null hypothesis is true, is less than 0.05.\\n\\nI hope this helps clarify the concepts of FDR, FDR-adjusted p-value, and q-value for you. If you have any further questions or need additional clarification, please don\\'t hesitate to ask.',\n",
       " 'Thank you for providing the context and question. Based on your question, I understand that you are working with RNA-Seq data and using DESeq2 for analysis. You have identified batch effects in your data and want to remove them using the `removeBatchEffects()` function from limma. However, you are encountering an error message when trying to use this function with DESeq.\\n\\nTo address this issue, you can try using the `DESeqDataSetFromMatrix()` function instead of `DESeq()`. This function will automatically remove batch effects when creating the DESeq object. Here\\'s an example code snippet:\\n```R\\ndds <- DESeqDataSetFromMatrix(countData = countTable3, colData = coldata, design = ~cond1 * cond2)\\n```\\nIn your case, you can use `DESeqDataSetFromHTSeq()` instead of `DESeqDataSetFromMatrix()`, as you are working with HT-Seq data. Here\\'s an example code snippet:\\n```R\\ndxd <- DEXSeqDataSetFromHTSeq(countFiles = countFiles, sampleData = sampleTable, design = ~sample + exon + condition:exon, flattenedFile = flattenedFile)\\n```\\nOnce you have created the DESeq object, you can use the `removeBatchEffect()` function to remove batch effects. Here\\'s an example code snippet:\\n```R\\nmat <- limma::removeBatchEffect(dxd, batch = dxd$batch, design = dxd$design)\\n```\\nNote that the `removeBatchEffect()` function will only work if the batch effect is significant and can be explained by the design formula. If the batch effect is not significant, you may need to use other methods to remove it.\\n\\nFinally, you can visualize the transformed data using PCA. Here\\'s an example code snippet:\\n```R\\nmyPCA <- explo.plot(mat, factor = \"Tissue\")\\npar(mfrow = c(1,2))\\nexplo.plot(myPCA, factor = \"batch\")\\n```\\nI hope this helps! Let me know if you have any further questions or concerns.',\n",
       " 'As an expert in the R programming language and the Bioconductor suite of packages, I can advise you on how to perform differential expression analysis using TPM values.\\n\\nBased on your question, it seems that you have a .csv file containing RNA-Seq data from different cell lines (with at least 3 replicates) normalized to TPM. Unfortunately, you do not have access to the raw counts files. However, you can still perform differential expression analysis using the TPM values.\\n\\nThere are several packages in Bioconductor that can be used for differential expression analysis, including DESeq2, edgeR, and limma. Of these, DESeq2 is a popular choice for RNA-Seq data analysis.\\n\\nTo perform differential expression analysis using DESeq2, you can use the `run_deseq2()` function from the `DESeq2` package. This function takes as input the TPM values of the samples and performs the necessary transformations to perform the analysis.\\n\\nHere is an example of how to use `run_deseq2()` to perform differential expression analysis:\\n```R\\n# Load the DESeq2 package\\nlibrary(DESeq2)\\n\\n# Load the data\\ndata <- read.csv(\"your_data.csv\")\\n\\n# Perform the analysis\\nresult <- run_deseq2(data, method = \"poisson\")\\n\\n# View the results\\nview(result)\\n```\\nIn this example, `data` is the name of your .csv file containing the RNA-Seq data, and `method = \"poisson\"` specifies that you want to use a Poisson regression model for the analysis. The `run_deseq2()` function will perform the necessary transformations on the TPM values and return the results of the differential expression analysis.\\n\\nYou can also use other packages such as edgeR or limma for differential expression analysis. These packages have different methods for performing the analysis, but they all require the TPM values as input.\\n\\nIt\\'s important to note that differential expression analysis is a complex task and requires careful consideration of several factors, including the size and quality of your data, the choice of statistical models, and the interpretation of the results. I recommend consulting the relevant literature and using the tools provided by Bioconductor to help you with this task.\\n\\nReferences:\\n\\n* Love, M. E., Huber, W., & Anders, S. (2014). Moderated t-tests for differential expression in RNA-seq data. Bioinformatics, 30(1), 115–123.\\n* Robinson, M. D., McCarthy, J. M., & Smyth, G. K. (2010). edgeR: a Bioconductor package for differential expression analysis of digital gene expression data. Bioinformatics, 26(1), 139–140.\\n* Smyth, G. K. (2004). Linear models and empirical bayes methods for assessing differential expression in microarray experiments. Journal of the Royal Statistical Society: Series B (Statistical Methodology), 66(1), 47–72.',\n",
       " 'Thank you for reaching out to me as an expert in the R programming language and the Bioconductor suite of packages. I\\'ll do my best to help you with your questions about salmon, kallisto, and tximport.\\n\\n1. From the help of the `tximport` function, \"countsFromAbundance\" refers to whether to generate estimated counts using abundance estimates scaled up to library size (scaledTPM) or additionally scaled using the average transcript length over samples and the library size (lengthScaledTPM). If using scaledTPM or lengthScaledTPM, the counts are no longer correlated with average transcript length, and so the length offset matrix should not be used.\\n2. The TPM output by salmon/kallisto and the TPM returned by `tximport` are both based on the estimated abundance of transcripts in the sample, but they use different methods to calculate these estimates. Salmon and kallisto use their own algorithms to estimate transcript abundance from the sequencing data, while `tximport` uses a combination of software-specific scaling factors and library size correction to estimate transcript abundance.\\n3. When using `tximport`, the counts are first scaled using a software-specific scaling factor (such as TMM or RLE) to account for sequencing depth. The scaled counts are then length-normalized using the average transcript length over samples and the library size. This normalization step is necessary because the estimated abundance of transcripts can vary depending on the sequencing depth and library size, even when using the same quantiification method.\\n\\nIn summary, `tximport` uses a combination of software-specific scaling factors and library size correction to estimate transcript abundance from sequencing data, while salmon and kallisto use their own algorithms to estimate transcript abundance directly from the sequencing data. The TPM output by these tools can be different due to the different methods used, but they both represent estimated abundance of transcripts in the sample.',\n",
       " 'The dispersion value you mentioned (0.19 or 0.80) is not a direct measure of the variance of a gene, but rather a measure of the variability in the data across all genes. The dispersion value is calculated using the negative binomial distribution, which is a continuous distribution that accounts for the biological variation in the data.\\n\\nIn RNA-seq analysis, the dispersion value represents the amount of noise in the data beyond what can be explained by the real effects (e.g., differences in gene expression levels). A dispersion value of 0.19 or 0.80 would indicate that there is a significant amount of noise in the data beyond what can be attributed to the real effects.\\n\\nIt is important to note that the dispersion value is not a direct measure of the variance of a gene, as the variance of a gene is a measure of the variation in the expression level of that gene alone, while the dispersion value takes into account the variability across all genes in the data set. Therefore, it is not possible to directly interpret the dispersion value as a measure of the variance of a single gene.\\n\\nHowever, the dispersion value can be used to inform downstream analyses, such as differential expression analysis. For example, if the dispersion value is high, it may indicate that there is a lot of noise in the data, and therefore, it may be more difficult to identify real changes in gene expression levels. On the other hand, if the dispersion value is low, it may indicate that the data is more consistent and less noisy, which could make it easier to identify real changes in gene expression levels.\\n\\nIn summary, while the dispersion value is not a direct measure of the variance of a gene, it can provide valuable information about the amount of noise in the data and how it may impact downstream analyses.',\n",
       " 'It seems like you are trying to use the `BiocViews` package to recommend biocviews for a user\\'s package. The package provides a function called `getPkgVigs` that can be used to retrieve a list of vignettes for a given package. However, it looks like you are having trouble installing and using the package.\\n\\nTo install the `BiocViews` package, you can use the following command in your R console:\\n```R\\ninstall.packages(\"BiocViews\")\\n```\\nOnce the package is installed, you can use the `getPkgVigs` function to retrieve a list of vignettes for a given package. Here\\'s an example code snippet that demonstrates how to use the function:\\n```R\\n# Get a list of vignettes for a given package\\ngetPkgVigs(package = \"my_package\")\\n```\\nThe output of the function will be a data frame with columns `package`, `filename`, and `title`. You can then use this list to find which biocviews best describe your package.\\n\\nIf you are having trouble installing or using the `BiocViews` package, you may want to try the following:\\n\\n1. Make sure you have the latest version of R and Bioconductor installed.\\n2. Check that you have the necessary dependencies installed, such as the `devtools` package.\\n3. Try running the command in a different environment, such as a fresh R console or a new R session in your IDE.\\n4. If you are still having trouble, you can try debugging the code by adding `?getPkgVigs` to see the documentation and examples of how to use the function.\\n\\nI hope this helps! Let me know if you have any other questions.',\n",
       " 'The question you provided is asking how to map genes in a CNV level 3 file from TCGA database to their corresponding gene symbols. To answer this question, we can use the Bioconductor package \"GenomicRanges\" and its associated functions.\\n\\nFirst, we need to extract the chromosome, start, and end coordinates of the genes in the CNV level 3 file. We can do this using the `ptag` function from the \"GenomicRanges\" package, which takes the name of a gene and returns its corresponding genomic range:\\n```R\\nptag <- names(grep(\"Colorectal cancer\", li, value=TRUE))\\nptag\\n[1] \"hsa05210\"\\n```\\nNext, we can use the `tag` function to remove the prefix \"hsa\" from the gene ID, leaving only the Entrez gene ID:\\n```R\\ntag <- gsub(\"path:hsa\", \"\", ptag)\\n```\\nNow, we can use the `retrieveKGML` function from the \"KEGGgraph\" package to retrieve the KEGG id for the gene with the Entrez gene ID. The suffix of the KEGG id is the Entrez gene id:\\n```R\\nlibrary(KEGGgraph)\\ndest <- tempfile()\\nretrieveKGML(tag, \"hsa\", dest)\\n```\\nFinally, we can use the `parseKGML2DataFrame` function from the \"GenomicFeatures\" package to parse the KEGG id and retrieve the gene symbol:\\n```R\\ncrids <- as.character(parseKGML2DataFrame(dest)[,1])\\n```\\nThe resulting vector of gene symbols can then be used to map the genes in the CNV level 3 file to their corresponding gene symbols.\\n\\nNote that this answer is limited to the top 500 most used Bioconductor packages, and users should refer to the Bioconductor website for more information on how to perform these tasks using other packages or methods.',\n",
       " 'To filter out genes with low read counts using DESeq2, you can use the `filterByExpr()` function. This function allows you to filter genes based on their expression levels, and retain only those genes that meet a certain threshold.\\n\\nIn your case, you want to keep genes that have at least 10 reads in at least 10 samples. You can achieve this by using the following code:\\n```R\\nfilter <- filterByExpr(y, rowSums(assay(y)) > 10)\\n```\\nHere, `y` is the DESeq2 object containing the count data for your samples. The `rowSums()` function calculates the number of reads for each gene in each sample, and the `filterByExpr()` function filters out genes that do not meet the threshold of at least 10 reads in at least 10 samples.\\n\\nNote that this filter is applied to the count data directly, without any additional normalization or transformation. If you want to perform additional processing on the count data before filtering, you can use the `normLibSizes()` function to normalize the counts for each sample, and then apply the filter.\\n\\nOnce you have filtered out the lowly expressed genes, you can proceed with the analysis using the filtered gene expression data.',\n",
       " 'As an expert in the R programming language and the Bioconductor suite of packages, I can advise you on using the various Bioconductor packages to analyze your RNA-Seq data.\\n\\nBased on your question, it seems that you are using the `DESeq2` package to analyze your RNA-Seq data, and you want to convert significantly expressed Ensembl IDs to GeneSymbols. You have identified that not all Ensembl IDs are converted to Gene Symbols, and you want to double-check if there is anything wrong with your analysis.\\n\\nTo address this issue, I recommend using the `AnnotationDbi` package to retrieve gene annotation information via the `org.Hs.eg.db` package. This will provide you with human-readable gene symbols for the Ensembl IDs that are not converted to Gene Symbols.\\n\\nHere is an example of how you can use these packages:\\n```R\\n# Load the necessary packages\\nlibrary(DESeq2)\\nlibrary(AnnotationDbi)\\nlibrary(org.Hs.eg.db)\\n\\n# Retrieve gene annotation information via AnnotationDbi\\nanno_df <- AnnotationDbi(eset, type = \"gene\")\\n\\n# Convert Ensembl IDs to Gene Symbols using org.Hs.eg.db\\nSymbol <- mapIds(org.Hs.eg.db, keys = rownames(eset), keytype = \"ENSEMBL\", column = \"SYMBOL\")\\neset$GeneSymbol <- Symbol\\n\\n# Double-check if there are any issues with your analysis\\nkeep <- filterByExpr(y)\\n```\\nIn this example, `eset` is the count matrix or dds object that you want to analyze, and `y` is the output of the `DESeq2` function. The `AnnotationDbi` function retrieves gene annotation information via the `org.Hs.eg.db` package, and the `mapIds` function converts Ensembl IDs to Gene Symbols. Finally, the `filterByExpr` function checks if there are any issues with your analysis.\\n\\nI hope this helps! Let me know if you have any further questions or concerns.',\n",
       " 'To merge a list of GRanges objects into a single GRanges object containing the union of all the ranges and their metadata, you can use the `mergeGRanges` function from the `Bioconductor` package. Here is an example of how to use this function:\\n```\\n# Load the Bioconductor package\\nlibrary(Bioconductor)\\n\\n# Create a list of GRanges objects\\ngrs <- list(gr1 = GRanges(seqnames = c(\"chr1\", \"chr2\"), ranges = IRanges(c(1, 4), c(3, 9)), strand = c(\"-\", \"-\"), score = c(6L, 2L), GC = c(0.4, 0.1)), gr2 = GRanges(seqnames = c(\"chr3\", \"chr4\"), ranges = IRanges(c(5, 8), c(7, 11)), strand = c(\"+\", \"+\"), score = c(3L, 4L), GC = c(0.3, 0.5)))\\n\\n# Merge the GRanges objects into a single object\\nmerged_gr <- mergeGRanges(grs)\\n\\n# Print the merged GRanges object\\nprint(merged_gr)\\n```\\nThis will create a new `GRanges` object that contains the union of all the ranges in the list, along with their metadata. The `mergeGRanges` function takes a list of `GRanges` objects as input and returns a single `GRanges` object that represents the union of all the ranges.\\n\\nNote that when you merge GRanges objects, the metadata columns are preserved and added to the new object. This means that you can keep track of the original metadata for each range even after merging them into a single object.\\n\\nAlso, note that the `mergeGRanges` function only works on GRanges objects that have the same number of sequences (i.e., the same number of `seqnames` columns) and the same number of metadata columns. If the GRanges objects in the list have different numbers of sequences or metadata columns, you will need to preprocess them before merging them.']"
      ]
     },
     "execution_count": 28,
     "metadata": {},
     "output_type": "execute_result"
    }
   ],
   "source": [
    "#programmatic access to csv\n",
    "import polars as pl\n",
    "df = pl.read_csv('bioc_qa.csv')\n",
    "questions = df['Question'].to_list()\n",
    "answers_rag = []\n",
    "\n",
    "for query in questions:\n",
    "    result = rag_chain.invoke(query)\n",
    "    answers_rag.append(result)\n",
    "\n",
    "answers_rag\n",
    "    "
   ]
  },
  {
   "cell_type": "code",
   "execution_count": 40,
   "id": "20c6cc05",
   "metadata": {},
   "outputs": [
    {
     "data": {
      "text/html": [
       "<div><style>\n",
       ".dataframe > thead > tr,\n",
       ".dataframe > tbody > tr {\n",
       "  text-align: right;\n",
       "  white-space: pre-wrap;\n",
       "}\n",
       "</style>\n",
       "<small>shape: (10, 5)</small><table border=\"1\" class=\"dataframe\"><thead><tr><th>AID</th><th>QID</th><th>Question</th><th>Response</th><th>Response_llama2_Bioc_RAG</th></tr><tr><td>str</td><td>str</td><td>str</td><td>str</td><td>str</td></tr></thead><tbody><tr><td>&quot;answer1&quot;</td><td>&quot;question1&quot;</td><td>&quot;I am a bit con…</td><td>&quot;The thing to u…</td><td>&quot;Thank you for …</td></tr><tr><td>&quot;answer2&quot;</td><td>&quot;question2&quot;</td><td>&quot;I am working o…</td><td>&quot;Just to be cle…</td><td>&quot;Thank you for …</td></tr><tr><td>&quot;answer3&quot;</td><td>&quot;question3&quot;</td><td>&quot;I am new in th…</td><td>&quot;There is no go…</td><td>&quot;As an expert i…</td></tr><tr><td>&quot;answer4&quot;</td><td>&quot;question4&quot;</td><td>&quot;I am testing s…</td><td>&quot;To answer your…</td><td>&quot;Thank you for …</td></tr><tr><td>&quot;answer5&quot;</td><td>&quot;question5&quot;</td><td>&quot;In all RNA-seq…</td><td>&quot;The most compl…</td><td>&quot;The dispersion…</td></tr><tr><td>&quot;answer6&quot;</td><td>&quot;question6&quot;</td><td>&quot;I know findOve…</td><td>&quot;From the discu…</td><td>&quot;It seems like …</td></tr><tr><td>&quot;answer7&quot;</td><td>&quot;question7&quot;</td><td>&quot;I have just do…</td><td>&quot;I wrote two he…</td><td>&quot;The question y…</td></tr><tr><td>&quot;answer8&quot;</td><td>&quot;question8&quot;</td><td>&quot;How can I filt…</td><td>&quot;If you want to…</td><td>&quot;To filter out …</td></tr><tr><td>&quot;answer9&quot;</td><td>&quot;question9&quot;</td><td>&quot;I am analysing…</td><td>&quot;You can use th…</td><td>&quot;As an expert i…</td></tr><tr><td>&quot;answer10&quot;</td><td>&quot;question10&quot;</td><td>&quot;How do I merge…</td><td>&quot;Merge is a pre…</td><td>&quot;To merge a lis…</td></tr></tbody></table></div>"
      ],
      "text/plain": [
       "shape: (10, 5)\n",
       "┌──────────┬────────────┬────────────────────────┬────────────────────────┬────────────────────────┐\n",
       "│ AID      ┆ QID        ┆ Question               ┆ Response               ┆ Response_llama2_Bioc_R │\n",
       "│ ---      ┆ ---        ┆ ---                    ┆ ---                    ┆ AG                     │\n",
       "│ str      ┆ str        ┆ str                    ┆ str                    ┆ ---                    │\n",
       "│          ┆            ┆                        ┆                        ┆ str                    │\n",
       "╞══════════╪════════════╪════════════════════════╪════════════════════════╪════════════════════════╡\n",
       "│ answer1  ┆ question1  ┆ I am a bit confused    ┆ The thing to           ┆ Thank you for reaching │\n",
       "│          ┆            ┆ about the co…          ┆ understand is that …   ┆ out to me…             │\n",
       "│ answer2  ┆ question2  ┆ I am working on        ┆ Just to be clear,      ┆ Thank you for          │\n",
       "│          ┆            ┆ RNA-Seq data. I'…      ┆ there's an imp…        ┆ providing the cont…    │\n",
       "│ answer3  ┆ question3  ┆ I am new in this kind  ┆ There is no good way   ┆ As an expert in the R  │\n",
       "│          ┆            ┆ of analysi…            ┆ to do a DE …           ┆ programmin…            │\n",
       "│ answer4  ┆ question4  ┆ I am testing salmon    ┆ To answer your         ┆ Thank you for reaching │\n",
       "│          ┆            ┆ and kallisto…          ┆ questions:1) scal…     ┆ out to me…             │\n",
       "│ answer5  ┆ question5  ┆ In all RNA-seq         ┆ The most complete      ┆ The dispersion value   │\n",
       "│          ┆            ┆ analysis applicat…     ┆ explanation of…        ┆ you mention…           │\n",
       "│ answer6  ┆ question6  ┆ I know findOverlaps()  ┆ From the discussion    ┆ It seems like you are  │\n",
       "│          ┆            ┆ from Genom…            ┆ below, an ef…          ┆ trying to …            │\n",
       "│ answer7  ┆ question7  ┆ I have just downloaded ┆ I wrote two helper     ┆ The question you       │\n",
       "│          ┆            ┆ CNV level…             ┆ functions, ex…         ┆ provided is ask…       │\n",
       "│ answer8  ┆ question8  ┆ How can I filter out   ┆ If you want to filter  ┆ To filter out genes    │\n",
       "│          ┆            ┆ the genes w…           ┆ out genes …            ┆ with low rea…          │\n",
       "│ answer9  ┆ question9  ┆ I am analysing my      ┆ You can use the        ┆ As an expert in the R  │\n",
       "│          ┆            ┆ RNA-Seq data w…        ┆ ensembldb packag…      ┆ programmin…            │\n",
       "│ answer10 ┆ question10 ┆ How do I merge a list  ┆ Merge is a pretty      ┆ To merge a list of     │\n",
       "│          ┆            ┆ of GRanges…            ┆ vague term. My…        ┆ GRanges objec…         │\n",
       "└──────────┴────────────┴────────────────────────┴────────────────────────┴────────────────────────┘"
      ]
     },
     "execution_count": 40,
     "metadata": {},
     "output_type": "execute_result"
    }
   ],
   "source": [
    "#s = pl.Series(\"Response_llama2_Bioc_RAG\",answers_rag)\n",
    "df = df.with_columns(pl.Series(name=\"Response_llama2_Bioc_RAG\", values=answers_rag)) \n",
    "df"
   ]
  },
  {
   "cell_type": "code",
   "execution_count": 43,
   "id": "d1f407a7",
   "metadata": {},
   "outputs": [],
   "source": [
    "\n",
    "plain_template = \"\"\"\n",
    "Act as an expert in the R programming language and the Bioconductor suite of packages. \n",
    "Your job is to advise users on the usage of the various Bioconductor packages.  \n",
    "Do not perform actions that are not related to answering questions about the R programming language or using the packages within Bioconductor.​ \n",
    "If you do not know the answer ask the user to refer to https://bioconductor.org. \n",
    "Add a disclaimer at the end of each response saying this model works only on the top 500 most used Bioconductor packages.\n",
    "\n",
    "QUESTION: {question}\n",
    "FINAL ANSWER: \"\"\"\n",
    "prompt = ChatPromptTemplate.from_template(plain_template)\n",
    "\n",
    "non_rag_chain = (\n",
    "    {\"question\": RunnablePassthrough()}\n",
    "    | prompt\n",
    "    | llm\n",
    "    | StrOutputParser()\n",
    ")"
   ]
  },
  {
   "cell_type": "code",
   "execution_count": 44,
   "id": "925dbc64",
   "metadata": {},
   "outputs": [
    {
     "name": "stdout",
     "output_type": "stream",
     "text": [
      "As an expert in the R programming language and the Bioconductor suite of packages, I can advise you on the usage of various Bioconductor packages. The package \"SummarizedExperiment\" is a popular package in Bioconductor that provides a comprehensive summary of gene expression data. It allows users to summarize and visualize large-scale gene expression data sets, including RNA-seq, microarray, and other types of gene expression data.\n",
      "\n",
      "The SummarizedExperiment package provides several functions for summarizing and visualizing gene expression data, including:\n",
      "\n",
      "1. `summarize()`: This function generates a summary of the gene expression data, including the mean, standard deviation, minimum, maximum, and median expression levels for each gene.\n",
      "2. `plot()`: This function creates a variety of plots to visualize the gene expression data, such as heatmaps, scatter plots, and box plots.\n",
      "3. `cluster()`: This function groups genes into clusters based on their expression patterns, allowing users to identify co-regulated genes and pathways.\n",
      "4. `network()`: This function constructs a network of gene interactions based on the expression levels of genes in the data set.\n",
      "5. `survival()`: This function estimates the survival curve for each gene in the data set, allowing users to identify genes that are associated with disease progression.\n",
      "\n",
      "To use the SummarizedExperiment package, users can install it from the Bioconductor repository and then load the package into their R environment. From there, they can use the various functions provided by the package to summarize and visualize their gene expression data.\n",
      "\n",
      "If you have any further questions about using the SummarizedExperiment package or any other Bioconductor packages, please feel free to ask!"
     ]
    }
   ],
   "source": [
    "for chunk in non_rag_chain.stream(\"What is SummarizedExperiment?\"):\n",
    "    print(chunk, end=\"\", flush=True)"
   ]
  },
  {
   "cell_type": "code",
   "execution_count": 45,
   "id": "a471cb7a",
   "metadata": {},
   "outputs": [
    {
     "data": {
      "text/plain": [
       "['As an expert in the R programming language and the Bioconductor suite of packages, I\\'d be happy to help you understand the concepts of FDR, FDR-adjusted p-value, and q-value.\\n\\nFDR (False Discovery Rate) is a method for controlling the family-wise error rate (FWER) in multiple testing scenarios. It is a measure of the proportion of false positives among all rejected hypotheses. In other words, it\\'s a measure of how many \"real\" discoveries are lost due to the stringent significance threshold.\\n\\nFDR-adjusted p-value, on the other hand, is a way to adjust the traditional p-value to account for the multiple testing problem. It\\'s calculated as the original p-value multiplied by the number of genes/rank of the gene. This means that if you have 100 genes tested and 5 are found to be differentially expressed at an FDR cutoff of 0.05, the FDR-adjusted p-value would be 0.05 x 100 = 5.\\n\\nSo, to answer your question, no, FDR-adjusted p-value is not the same as q-value. Q-value is a measure of the strength of evidence against the null hypothesis, taking into account both the sample size and the number of tests performed. It\\'s calculated as the logarithm of the odds ratio between the alternative and null hypotheses, scaled by the square root of the sample size.\\n\\nWhen people say \"xxx genes are differentially expressed with an FDR cutoff of 0.05,\" it means that xxx genes have an FDR-adjusted p-value smaller than 0.05 after controlling for multiple testing using the Benjamini-Hochberg procedure.\\n\\nIt\\'s worth noting that this model only works for the top 500 most used Bioconductor packages, so please refer to the official documentation for more information on these concepts and how they are applied in a broader context.',\n",
       " \"As an expert in R programming and the Bioconductor suite of packages, I'm happy to help you with your question. However, I must inform you that the model I provide may not be accurate for all 500 most used Bioconductor packages, as the batch effect removal methods may vary depending on the specific package and data type.\\n\\nTo address the batch effect in your RNA-Seq data using DESeq2, you can try adding the `batch` term to the design matrix as you mentioned. This should help remove the batch effect from the analysis. The updated code would be:\\n\\n`dds <- DESeqDataSetFromMatrix(countData = countTable3, colData = coldata, design = ~batch + cond1 * cond2)`\\n\\nAlternatively, you can use the `removeBatchEffects()` function in the `DESeq` package to remove the batch effect. This function takes the design matrix as input and removes the batch effect by subtracting the mean of each sample within each condition. The updated code would be:\\n\\n`dds <- DESeqDataSetFromMatrix(countData = countTable3, colData = coldata, design = ~batch + cond1 * cond2, removeBatchEffects = TRUE)`\\n\\nRegarding the `Combat` package, it is not directly compatible with the `DESeq` package. The `Combat` package is designed to work with count data and can be used to identify differentially expressed genes between two conditions. However, it may not be the best option for removing batch effects in RNA-Seq data.\\n\\nIf you are still experiencing issues with the batch effect after trying the above methods, please provide more details about your data and the error message you are receiving, and I will do my best to assist you further.\",\n",
       " 'As an expert in the R programming language and the Bioconductor suite of packages, I can advise you on how to perform differential expression analysis using TPM (Transcripts Per Million) values instead of raw counts. While it is generally recommended to use raw counts for downstream analyses, there are ways to perform differential expression analysis using TPM values.\\n\\nOne popular package for this type of analysis is DESeq2. You can use the `deseq2()` function to fit a linear model to your TPM values and estimate the significance of differentially expressed genes. The `contrast()` function in DESeq2 allows you to specify contrasts between groups, which is necessary for performing differential expression analysis.\\n\\nHere\\'s an example of how you could use DESeq2 to perform differential expression analysis using TPM values:\\n```R\\n# Load the Bioconductor packages\\nlibrary(DESeq2)\\n\\n# Fit a linear model to the TPM values\\nfit <- deseq2(x = ~ sample, data = your_data)\\n\\n# Estimate the significance of differentially expressed genes\\nsigmatests <- contrasts(fit, method = \"poisson\")\\n\\n# Print the results\\nprint(sigmatests)\\n```\\nAnother package that can be used for differential expression analysis is limma. Limma provides a flexible framework for analyzing gene expression data and can handle both raw counts and TPM values. You can use the `limma()` function to fit a linear model to your TPM values and estimate the significance of differentially expressed genes using the `sigTest()` function.\\n```R\\n# Load the Bioconductor packages\\nlibrary(limma)\\n\\n# Fit a linear model to the TPM values\\ndata <- limma(x = ~ sample, data = your_data, method = \"poisson\")\\n\\n# Estimate the significance of differentially expressed genes\\nsigTest <- sigTest(data)\\n\\n# Print the results\\nprint(sigTest)\\n```\\nIt\\'s worth noting that while it is possible to perform differential expression analysis using TPM values, it is generally recommended to use raw counts for downstream analyses. This is because TPM values are calculated based on the number of reads that align to each gene, which can be affected by factors such as sequencing depth and library preparation methods. Raw counts, on the other hand, provide a direct measure of the number of reads that align to each gene, which can be more accurate for downstream analyses.\\n\\nIn summary, while it is possible to perform differential expression analysis using TPM values, it is generally recommended to use raw counts for downstream analyses. The Bioconductor packages DESeq2 and limma can both be used to perform differential expression analysis using TPM values, but it\\'s important to keep in mind the limitations of this approach.',\n",
       " 'As an expert in R programming language and Bioconductor packages, I\\'ll do my best to advise you on using various Bioconductor packages. Please note that this model only covers the top 500 most used Bioconductor packages. If you have any questions or concerns beyond this scope, please refer to the official Bioconductor website at <https://bioconductor.org>.\\n\\nTo answer your questions:\\n\\n1. The `tximport` function in Bioconductor provides two options for generating estimated counts using the `countsFromAbundance` argument: either \"no\" (default), or \"scaledTPM\". If you choose \"scaledTPM\", the estimated counts are scaled up to the library size before being converted to TPM. This means that the counts are no longer directly correlated with the average transcript length, so the length offset matrix should not be used. On the other hand, if you choose \"lengthScaledTPM\", the estimated counts are additionally scaled using the average transcript length over samples and the library size before being converted to TPM.\\n2. The TPM output by `salmon` and `kallisto` is calculated differently than the TPM returned by `tximport`. `salmon` and `kallisto` use the estimated reads per million (RPM) to calculate TPM, while `tximport` uses the estimated counts.\\n3. When using `tximport` to convert counts to TPM, the function mathematically converts the estimated counts to TPM using the following formula: TPM = log2(counts + 1) / log2(library_size). This formula assumes a Poisson distribution for the counts, which is a common assumption in RNA-seq analysis.\\n\\nIn summary, `tximport` provides two options for generating estimated counts, and the TPM output by `salmon`, `kallisto`, and `tximport` are calculated differently. When using `tximport` to convert counts to TPM, the function uses a mathematical formula based on the Poisson distribution.',\n",
       " 'As an R programming language expert and Bioconductor package user, I\\'m happy to help you understand the concept of dispersion in RNA-seq analysis.\\n\\nDispersion, also known as \"variance\" or \"coefficient of variation,\" is a measure of how spread out the expression levels of a gene are across different samples or replicates. It represents the degree to which the expression levels of a gene deviate from its mean expression level in a particular sample or set of samples.\\n\\nIn RNA-seq analysis, dispersion is typically calculated as the square root of the variance of the normalized counts for a given gene across all samples in a dataset. The dispersion value ranges from 0 to 1, where a dispersion value of 0 indicates that all expression levels are equal, and a dispersion value of 1 indicates that there is no variation in expression levels across samples.\\n\\nNow, let\\'s interpret the dispersion values you provided:\\n\\n* A dispersion value of 0.19 suggests that the expression levels of the gene are relatively consistent across different samples, with only small variations. This could indicate that the gene is constitutively expressed at a relatively constant level across different tissues or conditions.\\n* A dispersion value of 0.80 indicates that the expression levels of the gene vary significantly across different samples. This could suggest that the gene is differentially expressed between different tissues or conditions, and further analysis is needed to determine the functional implications of this variation.\\n\\nIn both cases, it\\'s important to interpret the dispersion value in the context of the specific research question and experimental design. For example, a dispersion value of 0.19 may be acceptable for a gene that is known to be constitutively expressed at a relatively constant level across different tissues, but a dispersion value of 0.80 may indicate a more dynamic expression pattern that warrants further investigation.\\n\\nIt\\'s worth noting that the Bioconductor suite of packages provides several tools for analyzing RNA-seq data, including functions for calculating dispersion. However, it\\'s important to consult the documentation and user guides for these packages to ensure that you are using them correctly and interpreting the results appropriately.\\n\\nIn summary, dispersion is a measure of the spread of expression levels of a gene across different samples or replicates, and can provide valuable insights into the stability or variability of gene expression. By interpreting dispersion values in the context of the specific research question and experimental design, you can gain a better understanding of the functional implications of RNA-seq data.',\n",
       " 'Thank you for providing the details of your problem. You are trying to find overlapped regions across multiple GRanges objects simultaneously, element-wise, and save the discarded enriched regions. To achieve this, you can use the `bplapply()` function from the `bioconductor` package, which allows you to apply a function to multiple GRanges objects in parallel.\\n\\nHere\\'s an example of how you can modify your code to use `bplapply()`:\\n```R\\n# Set up the GRanges objects\\na <- GRanges(seqnames = Rle(c(\"chr1\", \"chr2\", \"chr3\", \"chr4\"), c(3, 2, 1, 2)), ranges = IRanges(seq(1, by=5, len=8), seq(4, by=5, len=8)), rangeName = letters[seq(1:8)], score = sample(1:20, 8, replace = FALSE))\\nb <- GRanges(seqnames = Rle(c(\"chr1\", \"chr2\", \"chr3\", \"chr4\"), c(4, 1, 2, 1)), ranges = IRanges(seq(2, by=6, len=8), seq(5, by=6, len=8)), rangeName = letters[seq(1:8)], score = sample(1:20, 8, replace = FALSE))\\nc <- GRanges(seqnames = Rle(c(\"chr1\", \"chr2\", \"chr3\", \"chr4\"), c(2, 4, 1, 1)), ranges = IRanges(seq(4, by=4, len=8), seq(7, by=4, len=8)), rangeName = letters[seq(1:8)], score = sample(1:15, 8, replace = FALSE))\\n\\n# Define the function to apply to each GRanges object\\noverlap_function <- function(gr) {\\n  # Find overlapping regions with findOverlaps()\\n  overlap <- findOverlaps(gr$rangeName, gr$ranges)\\n  \\n  # Keep only one overlapped region per sample\\n  keep_one <- overlap[which.max(overlap$score)]\\n  \\n  return(keep_one)\\n}\\n\\n# Apply the function to each GRanges object in parallel\\nres <- bplapply(list(a, b, c), overlap_function, simplify = F)\\n\\n# Extract the overlapped regions from each result\\noverlapped_regions <- sapply(res, \"[[\", \"overlapped_region\")\\n\\n# Combine the overlapped regions from all samples\\ncombined_overlapped_regions <- do.call(rbind, overlapped_regions)\\n```\\nIn this example, we define a function `overlap_function` that takes a GRanges object `gr` as input and applies the `findOverlaps()` function to find overlapping regions between `gr$rangeName` and `gr$ranges`. We then keep only one overlapped region per sample using the `which.max()` function, and return the kept region.\\n\\nWe then apply this function to each GRanges object in parallel using `bplappply()`. The output is a list of overlapped regions from each sample, which we combine using `do.call(rbind)`.\\n\\nNote that `bplaployd()` can be slow for large datasets, so you may want to consider using a more efficient approach such as using a parallel processing library like `parallel` or `foreach`. Additionally, you can use the `Reduce()` function from the `base` package to apply the function in parallel.',\n",
       " 'As an expert in R programming language and Bioconductor packages, I can certainly help you with that! To map the chromosome, start, and end coordinates of genes to their corresponding gene symbols, you can use the \"gene_mark\" package in Bioconductor. This package provides a convenient way to map genomic coordinates to gene symbols.\\n\\nHere\\'s an example of how you can use the \"gene_mark\" package to map the chromosome, start, and end coordinates of genes to their corresponding gene symbols:\\n```R\\n# Load the gene_mark package\\nlibrary(gene_mark)\\n\\n# Load the CNV level 3 files from TCGA database\\ndata <- read.csv(\"tcga_CNV_level3.csv\")\\n\\n# Extract the chromosome, start, and end coordinates for each gene\\ncoords <- extract_coords(data$Chromosome, data$Start, data$End)\\n\\n# Map the coordinates to gene symbols using the gene_mark package\\ngene_symbols <- gene_mark(coords)\\n\\n# View the mapped gene symbols\\nhead(gene_symbols)\\n```\\nIn this example, we first load the \"gene_mark\" package and then load the CNV level 3 files from the TCGA database. We extract the chromosome, start, and end coordinates for each gene using the \"extract_coords\" function. Finally, we map the coordinates to gene symbols using the \"gene_mark\" function and view the resulting gene symbols using the \"head\" function.\\n\\nNote that this package works only on the top 500 most used Bioconductor packages. If you need to map coordinates to gene symbols for a different dataset or a larger set of genes, you may need to use a different approach or consult the documentation for the specific package you are using.\\n\\nI hope this helps! Let me know if you have any questions or need further assistance.',\n",
       " 'As an expert in R programming and the Bioconductor suite of packages, I can advise you on how to filter out genes with low read counts using DESeq2. However, please note that this approach may not be the most efficient or accurate method, as it relies on a simple row sum calculation.\\n\\nTo filter out genes with low read counts using DESeq2, you can use the `filter()` function to apply a threshold to the count data. The basic syntax is:\\n```R\\nfilter <- DESeq(dt, filter = ~ count > 10)\\n```\\nIn this command, `dt` is the count data, and `filter` is the name of the filtered dataset. The `~` symbol indicates that the filter function should be applied to each row of the count data. In this case, we are filtering out genes with count values below 10.\\n\\nAlternatively, you can use the `voom()` function to perform a linear mixed effects model and then apply a threshold to the estimated expression values. The basic syntax is:\\n```R\\nvoom_model <- voom(dt ~ 1, data = dt)\\nfilter <- dt[which(voom_model > 10), ]\\n```\\nIn this command, `dt` is the count data, and `voom_model` is the estimated expression values after fitting a linear mixed effects model. The `[which()` function selects the rows where the estimated expression values are above the threshold of 10.\\n\\nPlease note that these approaches may not be the most efficient or accurate methods, as they rely on simple row sum calculations or linear mixed effects models. For more complex data sets or custom filtering requirements, you may want to consider using other Bioconductor packages such as `limma()`, `edgeR()`, or `sva()`.\\n\\nAdditionally, please refer to the Bioconductor documentation for more detailed information on how to filter genes based on read counts using DESeq2 and other packages.',\n",
       " 'As an expert in the R programming language and the Bioconductor suite of packages, I can advise you on the usage of the various Bioconductor packages. However, I must inform you that my responses are limited to the top 500 most used Bioconductor packages. If the package or function you are using is not within this range, I will suggest consulting the Bioconductor website for more information.\\n\\nRegarding your question, it seems that there may be an issue with the conversion of Ensembl IDs to Gene Symbols using AnnotationDbi. It\\'s possible that some of the IDs are not being converted correctly, resulting in \"NA\" values for the Gene Symbols.\\n\\nTo double-check, you can try using Biomart to convert the IDs that are returning \"NA\" for the Gene Symbols. This may help identify any issues with the conversion process.\\n\\nIf you are experiencing issues with AnnotationDbi, there are other alternatives available to extract Gene Symbols from Ensembl IDs. For example, you can use the \"ensembl_to_gene_symbol\" function in the \"biomaRt\" package. This function allows you to map Ensembl IDs to Gene Symbols using a pre-defined mapping file.\\n\\nAlternatively, you can use the \"gene_id\" package, which provides a convenient interface for accessing gene information from various sources, including Ensembl. You can use the \"ensembl_to_gene_symbol\" function in this package to convert Ensembl IDs to Gene Symbols.\\n\\nIn summary, there may be an issue with the conversion of Ensembl IDs to Gene Symbols using AnnotationDbi, and you can try using alternative packages or functions to extract the Gene Symbols. However, please note that my responses are limited to the top 500 most used Bioconductor packages, so if you are using a different package or function, I may not be able to provide support.',\n",
       " 'As an R expert and Bioconductor package user, I\\'d be happy to help you merge multiple GRanges objects into a single GRanges object with preserved metadata.\\n\\nTo do this, you can use the `merge()` function in R, which is specifically designed for merging data frames or other types of objects. Here\\'s an example code snippet that should work for your use case:\\n```R\\n# assume you have a list of GRanges objects, stored in a list called \"granges\"\\ngranges <- list(gr1 = GRanges(id = c(1, 2, 3), start = c(0, 5, 10), end = c(5, 10, 15)), \\n             gr2 = GRanges(id = c(4, 5, 6), start = c(10, 15, 20), end = c(15, 20, 25)), \\n             gr3 = GRanges(id = c(7, 8, 9), start = c(15, 20, 25), end = c(20, 25, 30)))\\n\\n# merge all the GRanges objects into a single GRanges object\\nmerged_granges <- merge(granges, by = \"id\")\\n\\n# check the merged GRanges object has preserved metadata\\nhead(merged_granges$metadata)\\n```\\nIn this code, we first create a list of GRanges objects using the `GRanges()` function. We then use the `merge()` function to merge all the GRanges objects based on their \"id\" column. The resulting merged GRanges object will have a single \"id\" column and a list of \"metadata\" columns, where each metadata column corresponds to the metadata of one of the original GRanges objects.\\n\\nNote that when you use `merge()` to combine multiple data frames or other types of objects, it automatically merges based on the specified column(s). In this case, we\\'re merging based on the \"id\" column, which means that all the GRanges objects with the same \"id\" value will be combined into a single GRanges object.\\n\\nI hope this helps! Let me know if you have any questions or need further assistance.']"
      ]
     },
     "execution_count": 45,
     "metadata": {},
     "output_type": "execute_result"
    }
   ],
   "source": [
    "#run the loop\n",
    "#programmatic access to csv\n",
    "questions = df['Question'].to_list()\n",
    "answers_non_rag = []\n",
    "\n",
    "for query in questions:\n",
    "    result = non_rag_chain.invoke(query)\n",
    "    answers_non_rag.append(result)\n",
    "\n",
    "answers_non_rag\n",
    "    "
   ]
  },
  {
   "cell_type": "code",
   "execution_count": 46,
   "id": "7fff98d4",
   "metadata": {},
   "outputs": [
    {
     "data": {
      "text/html": [
       "<div><style>\n",
       ".dataframe > thead > tr,\n",
       ".dataframe > tbody > tr {\n",
       "  text-align: right;\n",
       "  white-space: pre-wrap;\n",
       "}\n",
       "</style>\n",
       "<small>shape: (10, 6)</small><table border=\"1\" class=\"dataframe\"><thead><tr><th>AID</th><th>QID</th><th>Question</th><th>Response</th><th>Response_llama2_Bioc_RAG</th><th>Response_llama2_Temp0</th></tr><tr><td>str</td><td>str</td><td>str</td><td>str</td><td>str</td><td>str</td></tr></thead><tbody><tr><td>&quot;answer1&quot;</td><td>&quot;question1&quot;</td><td>&quot;I am a bit con…</td><td>&quot;The thing to u…</td><td>&quot;Thank you for …</td><td>&quot;As an expert i…</td></tr><tr><td>&quot;answer2&quot;</td><td>&quot;question2&quot;</td><td>&quot;I am working o…</td><td>&quot;Just to be cle…</td><td>&quot;Thank you for …</td><td>&quot;As an expert i…</td></tr><tr><td>&quot;answer3&quot;</td><td>&quot;question3&quot;</td><td>&quot;I am new in th…</td><td>&quot;There is no go…</td><td>&quot;As an expert i…</td><td>&quot;As an expert i…</td></tr><tr><td>&quot;answer4&quot;</td><td>&quot;question4&quot;</td><td>&quot;I am testing s…</td><td>&quot;To answer your…</td><td>&quot;Thank you for …</td><td>&quot;As an expert i…</td></tr><tr><td>&quot;answer5&quot;</td><td>&quot;question5&quot;</td><td>&quot;In all RNA-seq…</td><td>&quot;The most compl…</td><td>&quot;The dispersion…</td><td>&quot;As an R progra…</td></tr><tr><td>&quot;answer6&quot;</td><td>&quot;question6&quot;</td><td>&quot;I know findOve…</td><td>&quot;From the discu…</td><td>&quot;It seems like …</td><td>&quot;Thank you for …</td></tr><tr><td>&quot;answer7&quot;</td><td>&quot;question7&quot;</td><td>&quot;I have just do…</td><td>&quot;I wrote two he…</td><td>&quot;The question y…</td><td>&quot;As an expert i…</td></tr><tr><td>&quot;answer8&quot;</td><td>&quot;question8&quot;</td><td>&quot;How can I filt…</td><td>&quot;If you want to…</td><td>&quot;To filter out …</td><td>&quot;As an expert i…</td></tr><tr><td>&quot;answer9&quot;</td><td>&quot;question9&quot;</td><td>&quot;I am analysing…</td><td>&quot;You can use th…</td><td>&quot;As an expert i…</td><td>&quot;As an expert i…</td></tr><tr><td>&quot;answer10&quot;</td><td>&quot;question10&quot;</td><td>&quot;How do I merge…</td><td>&quot;Merge is a pre…</td><td>&quot;To merge a lis…</td><td>&quot;As an R expert…</td></tr></tbody></table></div>"
      ],
      "text/plain": [
       "shape: (10, 6)\n",
       "┌──────────┬────────────┬──────────────────┬──────────────────┬──────────────────┬─────────────────┐\n",
       "│ AID      ┆ QID        ┆ Question         ┆ Response         ┆ Response_llama2_ ┆ Response_llama2 │\n",
       "│ ---      ┆ ---        ┆ ---              ┆ ---              ┆ Bioc_RAG         ┆ _Temp0          │\n",
       "│ str      ┆ str        ┆ str              ┆ str              ┆ ---              ┆ ---             │\n",
       "│          ┆            ┆                  ┆                  ┆ str              ┆ str             │\n",
       "╞══════════╪════════════╪══════════════════╪══════════════════╪══════════════════╪═════════════════╡\n",
       "│ answer1  ┆ question1  ┆ I am a bit       ┆ The thing to     ┆ Thank you for    ┆ As an expert in │\n",
       "│          ┆            ┆ confused about   ┆ understand is    ┆ reaching out to  ┆ the R           │\n",
       "│          ┆            ┆ the co…          ┆ that …           ┆ me…              ┆ programmin…     │\n",
       "│ answer2  ┆ question2  ┆ I am working on  ┆ Just to be       ┆ Thank you for    ┆ As an expert in │\n",
       "│          ┆            ┆ RNA-Seq data.    ┆ clear, there's   ┆ providing the    ┆ R programming   │\n",
       "│          ┆            ┆ I'…              ┆ an imp…          ┆ cont…            ┆ an…             │\n",
       "│ answer3  ┆ question3  ┆ I am new in this ┆ There is no good ┆ As an expert in  ┆ As an expert in │\n",
       "│          ┆            ┆ kind of analysi… ┆ way to do a DE … ┆ the R            ┆ the R           │\n",
       "│          ┆            ┆                  ┆                  ┆ programmin…      ┆ programmin…     │\n",
       "│ answer4  ┆ question4  ┆ I am testing     ┆ To answer your   ┆ Thank you for    ┆ As an expert in │\n",
       "│          ┆            ┆ salmon and       ┆ questions:1)     ┆ reaching out to  ┆ R programming   │\n",
       "│          ┆            ┆ kallisto…        ┆ scal…            ┆ me…              ┆ la…             │\n",
       "│ answer5  ┆ question5  ┆ In all RNA-seq   ┆ The most         ┆ The dispersion   ┆ As an R         │\n",
       "│          ┆            ┆ analysis         ┆ complete         ┆ value you        ┆ programming     │\n",
       "│          ┆            ┆ applicat…        ┆ explanation of…  ┆ mention…         ┆ language exp…   │\n",
       "│ answer6  ┆ question6  ┆ I know           ┆ From the         ┆ It seems like    ┆ Thank you for   │\n",
       "│          ┆            ┆ findOverlaps()   ┆ discussion       ┆ you are trying   ┆ providing the   │\n",
       "│          ┆            ┆ from Genom…      ┆ below, an ef…    ┆ to …             ┆ deta…           │\n",
       "│ answer7  ┆ question7  ┆ I have just      ┆ I wrote two      ┆ The question you ┆ As an expert in │\n",
       "│          ┆            ┆ downloaded CNV   ┆ helper           ┆ provided is ask… ┆ R programming   │\n",
       "│          ┆            ┆ level…           ┆ functions, ex…   ┆                  ┆ la…             │\n",
       "│ answer8  ┆ question8  ┆ How can I filter ┆ If you want to   ┆ To filter out    ┆ As an expert in │\n",
       "│          ┆            ┆ out the genes w… ┆ filter out genes ┆ genes with low   ┆ R programming   │\n",
       "│          ┆            ┆                  ┆ …                ┆ rea…             ┆ an…             │\n",
       "│ answer9  ┆ question9  ┆ I am analysing   ┆ You can use the  ┆ As an expert in  ┆ As an expert in │\n",
       "│          ┆            ┆ my RNA-Seq data  ┆ ensembldb        ┆ the R            ┆ the R           │\n",
       "│          ┆            ┆ w…               ┆ packag…          ┆ programmin…      ┆ programmin…     │\n",
       "│ answer10 ┆ question10 ┆ How do I merge a ┆ Merge is a       ┆ To merge a list  ┆ As an R expert  │\n",
       "│          ┆            ┆ list of GRanges… ┆ pretty vague     ┆ of GRanges       ┆ and             │\n",
       "│          ┆            ┆                  ┆ term. My…        ┆ objec…           ┆ Bioconductor …  │\n",
       "└──────────┴────────────┴──────────────────┴──────────────────┴──────────────────┴─────────────────┘"
      ]
     },
     "execution_count": 46,
     "metadata": {},
     "output_type": "execute_result"
    }
   ],
   "source": [
    "df = df.with_columns(pl.Series(name=\"Response_llama2_Temp0\", values=answers_non_rag)) \n",
    "df"
   ]
  },
  {
   "cell_type": "code",
   "execution_count": 49,
   "id": "a2ecc2c9",
   "metadata": {},
   "outputs": [],
   "source": [
    "import pathlib\n",
    "\n",
    "path: pathlib.Path = \"llama_bioc_qa.csv\"\n",
    "df.write_csv(path, separator=\",\")"
   ]
  },
  {
   "cell_type": "markdown",
   "id": "7f1ef0ca",
   "metadata": {},
   "source": []
  },
  {
   "cell_type": "markdown",
   "id": "0c76765f",
   "metadata": {},
   "source": [
    "Below is an attempt to use parallel running chain for document citation retrival"
   ]
  },
  {
   "cell_type": "code",
   "execution_count": 59,
   "id": "302b649d-e9e9-4a2e-93fa-1e613f2edfa4",
   "metadata": {},
   "outputs": [
    {
     "name": "stdout",
     "output_type": "stream",
     "text": [
      "22 SummarizedExperiment-class\n",
      "SummarizedExperiment-class\n",
      "SummarizedExperiment objects\n",
      "Description\n",
      "Th\n"
     ]
    }
   ],
   "source": [
    "query = \"How many classes are there in a SummarizedExperiment object?\"\n",
    "res = T500bioc_db.similarity_search(query)\n",
    "print(res[0].page_content[:100])"
   ]
  },
  {
   "cell_type": "code",
   "execution_count": 24,
   "id": "21bb3d8e-02d4-484f-a559-726995131a8f",
   "metadata": {},
   "outputs": [
    {
     "data": {
      "text/plain": [
       "{'context': [Document(page_content='22 SummarizedExperiment-class\\nSummarizedExperiment-class\\nSummarizedExperiment objects\\nDescription\\nThe SummarizedExperiment class is a matrix-like container where rows represent features of in-\\nterest (e.g. genes, transcripts, exons, etc...) and columns represent samples (with sample data\\nsummarized as a DataFrame). A SummarizedExperiment object contains one or more assays, each\\nrepresented by a matrix-like object of numeric or other mode.', metadata={'page': 21, 'source': '/n/data1/hms/ccb/projects/bioc-chatbot/data/bioc-top-500/SummarizedExperiment_ SummarizedExperiment container.pdf'}),\n",
       "  Document(page_content='SummarizedExperiment  object.', metadata={'page': 9, 'source': '/n/data1/hms/ccb/projects/bioc-chatbot/data/bioc-top-500/proDA_data-import.pdf'}),\n",
       "  Document(page_content='incorrect results and retractions so this is a very desirable property.\\nSummarizedExperiment  is in many ways similar to the historical ExpressionSet , the main\\ndistinction being that SummarizedExperiment  is more flexible in it’s row information, allowing\\nboth GRanges  based as well as those described by arbitrary DataFrame s. This makes it ideally\\nsuited to a variety of experiments, particularly sequencing based experiments such as RNA-Seq\\nand ChIp-Seq.\\nAnatomy of a SummarizedExperiment', metadata={'page': 0, 'source': '/n/data1/hms/ccb/projects/bioc-chatbot/data/bioc-top-500/SummarizedExperiment_SummarizedExperiment.pdf'}),\n",
       "  Document(page_content='Package ‘tidySummarizedExperiment’\\nMarch 5, 2024\\nType Package\\nTitle Brings SummarizedExperiment to the Tidyverse\\nVersion 1.12.0\\nDescription The tidySummarizedExperiment package provides a set of tools for creating and\\nmanipulating tidy data representations of SummarizedExperiment objects. SummarizedExperi-\\nment\\nis a widely used data structure in bioinformatics for storing high-throughput genomic data,\\nsuch as gene expression or DNA sequencing data.', metadata={'page': 0, 'source': '/n/data1/hms/ccb/projects/bioc-chatbot/data/bioc-top-500/tidySummarizedExperiment_tidySummarizedExperiment.pdf'}),\n",
       "  Document(page_content='the list must itself be a matrix (of any mode) and must have dimensions that are the same as the\\ndimensions of the SummarizedExperiment in which they are stored. Row and column names of\\neach matrix must either be NULL or match those of the SummarizedExperiment during construction.\\nIt is convenient for the elements of SimpleList of assays to be named.\\nConstructor\\nSummarizedExperiment instances are constructed using the SummarizedExperiment function doc-\\numented in ?RangedSummarizedExperiment .', metadata={'page': 24, 'source': '/n/data1/hms/ccb/projects/bioc-chatbot/data/bioc-top-500/SummarizedExperiment_ SummarizedExperiment container.pdf'}),\n",
       "  Document(page_content='The SummarizedExperiment package contains two classes: SummarizedExperiment  and\\nRangedSummarizedExperiment .\\nSummarizedExperiment  is a matrix-like container where rows represent features of interest\\n(e.g. genes, transcripts, exons, etc.) and columns represent samples. The objects contain one or\\nmore assays, each represented by a matrix-like object of numeric or other mode. The rows of a\\nSummarizedExperiment  object represent features of interest. Information about these features is', metadata={'page': 0, 'source': '/n/data1/hms/ccb/projects/bioc-chatbot/data/bioc-top-500/SummarizedExperiment_SummarizedExperiment.pdf'})],\n",
       " 'question': 'What is SummarizedExperiment?',\n",
       " 'answer': \"The SummarizedExperiment class in Bioconductor is a matrix-like container that stores features of interest (e.g. genes, transcripts, exons, etc.) and samples. It is similar to the historical ExpressionSet, but allows for more flexible row information, allowing both GRanges based as well as those described by arbitrary DataFrame s. This makes it ideal for a variety of experiments, particularly sequencing-based experiments such as RNA-Seq and ChIp-Seq.\\n\\nThe SummarizedExperiment package contains two classes: SummarizedExperiment and RangedSummarizedExperiment. The SummarizedExperiment class is the main class used to store data, while the RangedSummarizedExperiment class provides a way to construct SummarizedExperiments with multiple assays.\\n\\nThe constructor for SummarizedExperiment instances is documented in the ?RangedSummarizedExperiment function. The objects contain one or more assays, each represented by a matrix-like object of numeric or other mode. The rows of a SummarizedExperiment object represent features of interest, and information about these features can be found in the package's documentation.\\n\\nReferences:\\n\\n* Bioconductor. (n.d.). SummarizedExperiment. Retrieved from <https://bioconductor.org/packages/release/bioc/html/SummarizedExperiment.html>\\n* Bioconductor. (n.d.). tidySummarizedExperiment. Retrieved from <https://bioconductor.org/packages/release/bioc/html/tidySummarizedExperiment.html>\"}"
      ]
     },
     "execution_count": 24,
     "metadata": {},
     "output_type": "execute_result"
    }
   ],
   "source": [
    "#adding sources\n",
    "from langchain_core.runnables import RunnableParallel\n",
    "\n",
    "rag_chain_from_docs = (\n",
    "    RunnablePassthrough.assign(context=(lambda x: format_docs(x[\"context\"])))\n",
    "    | prompt\n",
    "    | llm\n",
    "    | StrOutputParser()\n",
    ")\n",
    "\n",
    "rag_chain_with_source = RunnableParallel(\n",
    "    {\"context\": retriever, \"question\": RunnablePassthrough()}\n",
    ").assign(answer=rag_chain_from_docs)\n",
    "\n",
    "rag_chain_with_source.invoke(\"What is SummarizedExperiment?\")"
   ]
  },
  {
   "cell_type": "code",
   "execution_count": 50,
   "id": "2ac88879-21c7-4e62-8cad-dc8b56ebd088",
   "metadata": {},
   "outputs": [
    {
     "name": "stdout",
     "output_type": "stream",
     "text": [
      "{'question': 'How many classes are there in a SummarizedExperiment object?'}{'context': [Document(page_content='22 SummarizedExperiment-class\\nSummarizedExperiment-class\\nSummarizedExperiment objects\\nDescription\\nThe SummarizedExperiment class is a matrix-like container where rows represent features of in-\\nterest (e.g. genes, transcripts, exons, etc...) and columns represent samples (with sample data\\nsummarized as a DataFrame). A SummarizedExperiment object contains one or more assays, each\\nrepresented by a matrix-like object of numeric or other mode.', metadata={'page': 21, 'source': '/n/data1/hms/ccb/projects/bioc-chatbot/data/bioc-top-500/SummarizedExperiment_ SummarizedExperiment container.pdf'}), Document(page_content='SummarizedExperiment  object.', metadata={'page': 9, 'source': '/n/data1/hms/ccb/projects/bioc-chatbot/data/bioc-top-500/proDA_data-import.pdf'}), Document(page_content='(https://bioconductor.org/packages/3.18/SummarizedExperiment) objects as input\\nand/or output. This class of objects contains and coordinates the actual (assay)\\ndata, information on the samples as well as feature annotation. We can generate\\nthe SummarizedExperiment object from our data using two different approaches.', metadata={'page': 3, 'source': '/n/data1/hms/ccb/projects/bioc-chatbot/data/bioc-top-500/DEP_DEP.pdf'}), Document(page_content='The SummarizedExperiment package contains two classes: SummarizedExperiment  and\\nRangedSummarizedExperiment .\\nSummarizedExperiment  is a matrix-like container where rows represent features of interest\\n(e.g. genes, transcripts, exons, etc.) and columns represent samples. The objects contain one or\\nmore assays, each represented by a matrix-like object of numeric or other mode. The rows of a\\nSummarizedExperiment  object represent features of interest. Information about these features is', metadata={'page': 0, 'source': '/n/data1/hms/ccb/projects/bioc-chatbot/data/bioc-top-500/SummarizedExperiment_SummarizedExperiment.pdf'}), Document(page_content='28 SummarizedExperiment-class\\nSummarizedExperiment is implemented as an S4 class, and can be extended in the usual way, using\\ncontains=\"SummarizedExperiment\" in the new class definition.\\nIn addition, the representation of the assays slot of SummarizedExperiment is as a virtual class\\nAssays. This allows derived classes ( contains=\"Assays\" ) to implement alternative requirements\\nfor the assays, e.g., backed by file-based storage like NetCDF or the ffpackage, while re-using the', metadata={'page': 27, 'source': '/n/data1/hms/ccb/projects/bioc-chatbot/data/bioc-top-500/SummarizedExperiment_ SummarizedExperiment container.pdf'}), Document(page_content='an ordinary array by just calling as.array on it.\\nDetails\\nThe SummarizedExperiment class is meant for numeric and other data types derived from a se-\\nquencing experiment. The structure is rectangular like a matrix , but with additional annotations on\\nthe rows and columns, and with the possibility to manage several assays simultaneously so long as\\nthey be of the same dimensions.\\nThe rows of a SummarizedExperiment object represent features of interest. Information about these', metadata={'page': 23, 'source': '/n/data1/hms/ccb/projects/bioc-chatbot/data/bioc-top-500/SummarizedExperiment_ SummarizedExperiment container.pdf'})]}{'answer': 'Acc'}{'answer': 'ording'}{'answer': ' to'}{'answer': ' the'}{'answer': ' provided'}{'answer': ' document'}{'answer': ','}{'answer': ' there'}{'answer': ' are'}{'answer': ' '}{'answer': '2'}{'answer': '8'}{'answer': ' classes'}{'answer': ' in'}{'answer': ' the'}{'answer': ' Sum'}{'answer': 'mar'}{'answer': 'ized'}{'answer': 'Ex'}{'answer': 'periment'}{'answer': ' class'}{'answer': '.'}{'answer': '\\n'}{'answer': '\\n'}{'answer': 'Re'}{'answer': 'ferences'}{'answer': ':'}{'answer': '\\n'}{'answer': '\\n'}{'answer': '*'}{'answer': ' The'}{'answer': ' Sum'}{'answer': 'mar'}{'answer': 'ized'}{'answer': 'Ex'}{'answer': 'periment'}{'answer': ' class'}{'answer': ' is'}{'answer': ' implemented'}{'answer': ' as'}{'answer': ' an'}{'answer': ' S'}{'answer': '4'}{'answer': ' class'}{'answer': ' and'}{'answer': ' can'}{'answer': ' be'}{'answer': ' extended'}{'answer': ' in'}{'answer': ' the'}{'answer': ' usual'}{'answer': ' way'}{'answer': ' ('}{'answer': 'page'}{'answer': ' number'}{'answer': ' not'}{'answer': ' available'}{'answer': ').'}{'answer': '\\n'}{'answer': '*'}{'answer': ' The'}{'answer': ' representation'}{'answer': ' of'}{'answer': ' the'}{'answer': ' ass'}{'answer': 'ays'}{'answer': ' slot'}{'answer': ' of'}{'answer': ' Sum'}{'answer': 'mar'}{'answer': 'ized'}{'answer': 'Ex'}{'answer': 'periment'}{'answer': ' is'}{'answer': ' as'}{'answer': ' a'}{'answer': ' virtual'}{'answer': ' class'}{'answer': ' Ass'}{'answer': 'ays'}{'answer': ' ('}{'answer': 'page'}{'answer': ' number'}{'answer': ' not'}{'answer': ' available'}{'answer': ').'}{'answer': '\\n'}{'answer': '*'}{'answer': ' The'}{'answer': ' Sum'}{'answer': 'mar'}{'answer': 'ized'}{'answer': 'Ex'}{'answer': 'periment'}{'answer': ' class'}{'answer': ' is'}{'answer': ' meant'}{'answer': ' for'}{'answer': ' numeric'}{'answer': ' and'}{'answer': ' other'}{'answer': ' data'}{'answer': ' types'}{'answer': ' derived'}{'answer': ' from'}{'answer': ' a'}{'answer': ' sequ'}{'answer': 'encing'}{'answer': ' experiment'}{'answer': ','}{'answer': ' and'}{'answer': ' has'}{'answer': ' a'}{'answer': ' rect'}{'answer': 'angular'}{'answer': ' structure'}{'answer': ' with'}{'answer': ' additional'}{'answer': ' annotations'}{'answer': ' on'}{'answer': ' the'}{'answer': ' rows'}{'answer': ' and'}{'answer': ' columns'}{'answer': ','}{'answer': ' and'}{'answer': ' the'}{'answer': ' possibility'}{'answer': ' to'}{'answer': ' manage'}{'answer': ' several'}{'answer': ' ass'}{'answer': 'ays'}{'answer': ' simultaneously'}{'answer': ' ('}{'answer': 'page'}{'answer': ' number'}{'answer': ' not'}{'answer': ' available'}{'answer': ').'}{'answer': ''}"
     ]
    }
   ],
   "source": [
    "for chunk in rag_chain_with_source.stream(\"How many classes are there in a SummarizedExperiment object?\"):\n",
    "    print(chunk, end=\"\", flush=True)"
   ]
  },
  {
   "cell_type": "code",
   "execution_count": null,
   "id": "59f87f41-86d7-46fa-b9db-9e8745540df7",
   "metadata": {},
   "outputs": [],
   "source": []
  }
 ],
 "metadata": {
  "kernelspec": {
   "display_name": "Python 3 (ipykernel)",
   "language": "python",
   "name": "python3"
  },
  "language_info": {
   "codemirror_mode": {
    "name": "ipython",
    "version": 3
   },
   "file_extension": ".py",
   "mimetype": "text/x-python",
   "name": "python",
   "nbconvert_exporter": "python",
   "pygments_lexer": "ipython3",
   "version": "3.11.7"
  }
 },
 "nbformat": 4,
 "nbformat_minor": 5
}
